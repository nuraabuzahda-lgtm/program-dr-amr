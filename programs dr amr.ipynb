{
 "cells": [
  {
   "cell_type": "markdown",
   "id": "d520c137",
   "metadata": {},
   "source": [
    "Beginner (8)"
   ]
  },
  {
   "cell_type": "code",
   "execution_count": null,
   "id": "f48b3c7e",
   "metadata": {},
   "outputs": [],
   "source": [
    "#multiplication program\n",
    "num=int(input(\"enter number:\"))\n",
    "print(\"multiplication of\",num,\"->\")\n",
    "for i in range (1,12 +1):\n",
    "    f=f\"{i}x{num}={num*i}\"\n",
    "    print(f)"
   ]
  },
  {
   "cell_type": "code",
   "execution_count": null,
   "id": "b655982a",
   "metadata": {},
   "outputs": [],
   "source": [
    "#counting program\n",
    "num=int(input(\"enter number:\"))\n",
    "for i in range(1,num +1):\n",
    "    print(i)"
   ]
  },
  {
   "cell_type": "code",
   "execution_count": null,
   "id": "a6a0ad81",
   "metadata": {},
   "outputs": [],
   "source": [
    "#sum of number\n",
    "limit = int(input(\"Enter the limit: \"))\n",
    "total = 0\n",
    "for i in range(1, limit + 1):\n",
    "    total +=i\n",
    "print(\"The sum of numbers from 1 to\", limit, \"is:\", total)"
   ]
  },
  {
   "cell_type": "code",
   "execution_count": null,
   "id": "679a833b",
   "metadata": {},
   "outputs": [],
   "source": [
    "#sum of number2\n",
    "limit = int(input(\"Enter the limit: \"))\n",
    "total = sum(range(1, limit + 1))\n",
    "print(\"The sum of numbers from 1 to\", limit, \"is:\", total)\n"
   ]
  },
  {
   "cell_type": "code",
   "execution_count": null,
   "id": "88364346",
   "metadata": {},
   "outputs": [],
   "source": [
    "#sum of list of number 1\n",
    "number=int(input(\"how many of number:\"))\n",
    "list=[]\n",
    "for i in range (number):\n",
    "    num=float(input(f\"Enter number {i+1}: \"))\n",
    "    list.append(num)\n",
    "    total=sum(list)\n",
    "print(\"the sum of number is\",total)"
   ]
  },
  {
   "cell_type": "code",
   "execution_count": null,
   "id": "ebfa26e7",
   "metadata": {},
   "outputs": [],
   "source": [
    "#sum of list of number 2\n",
    "numbers = input(\"Enter numbers separated by spaces: \") \n",
    "numbers = numbers.split()\n",
    "total=0\n",
    "for n in numbers:\n",
    "    total += float(n)\n",
    "print(\"The sum is:\", total)"
   ]
  },
  {
   "cell_type": "code",
   "execution_count": null,
   "id": "6e83c0bb",
   "metadata": {},
   "outputs": [],
   "source": [
    "#average calculator\n",
    "grades=[]\n",
    "while 1:\n",
    "    grade=(input(\"enter the grade :\"))\n",
    "    if grade==\"done\":\n",
    "        break\n",
    "    grades.append(int(grade))\n",
    "print(\"grades=\",grades)\n",
    "avrage=sum(grades)/len(grades)\n",
    "print(\"the avrage of grades is\",avrage)"
   ]
  },
  {
   "cell_type": "code",
   "execution_count": null,
   "id": "9b5190ac",
   "metadata": {},
   "outputs": [],
   "source": [
    "#count characters in a word with useing len()\n",
    "word=input(\"enter word\")\n",
    "count =len(word)\n",
    "print(\"the number of \",word ,\"->\",count)\n",
    "\n",
    "#count characters in a word with useing len()\n",
    "word2=input(\"enter word\")\n",
    "total=0\n",
    "for letter in word2:\n",
    "    total+=1\n",
    "print(\"the number of \",word2,\"->\",total)"
   ]
  },
  {
   "cell_type": "code",
   "execution_count": null,
   "id": "e2a1c1fa",
   "metadata": {},
   "outputs": [],
   "source": [
    "#even or odd number prtinter\n",
    "start=int(input(\"enter the start of range :\"))\n",
    "end=int(input(\"enter the end of range :\"))\n",
    "print(\"the even number from\",start,\"to\",end,\"is\")\n",
    "for i in range (start,end +1):\n",
    "    if i%2==0:\n",
    "        print(i)\n",
    "print(\"the odd number from\",start,\"to\",end,\"is\")\n",
    "for i in range (start,end +1):\n",
    "    if i%2!=0:\n",
    "        print(i)\n",
    "        \n"
   ]
  },
  {
   "cell_type": "code",
   "execution_count": null,
   "id": "97788340",
   "metadata": {},
   "outputs": [],
   "source": [
    "#countdown program1\n",
    "num=int(input(\"enter number:\"))\n",
    "for i in range(num,0,-1):\n",
    "    print(i)\n",
    "print(\"------------------\")\n",
    "#countdown program2\n",
    "num = int(input(\"Enter number: \"))\n",
    "while num > 0:\n",
    "    print(num)\n",
    "    num -= 1\n"
   ]
  },
  {
   "cell_type": "markdown",
   "id": "86363b97",
   "metadata": {},
   "source": [
    "Intermadiate (7)"
   ]
  },
  {
   "cell_type": "code",
   "execution_count": null,
   "id": "0f600ea6",
   "metadata": {},
   "outputs": [],
   "source": [
    "#maximum and minimum\n",
    "'''number=input(\"enter numbers when you finish press space :\")\n",
    "number=number.split()\n",
    "print(number) '''\n",
    "\n",
    "number=int(input(\"how many of number:\"))\n",
    "list=[]\n",
    "for i in range (number):\n",
    "    num=float(input(f\"Enter number {i+1}: \"))\n",
    "    list.append(num)\n",
    "print(list)\n",
    "maxmum=print(\"the max of list :\", max(list))\n",
    "minmum=print(\"the min of list :\", min(list))"
   ]
  },
  {
   "cell_type": "code",
   "execution_count": null,
   "id": "140527f1",
   "metadata": {},
   "outputs": [],
   "source": [
    "#password verification program\n",
    "pass1=\"nura\"\n",
    "while pass1!=pass2:\n",
    "    pass2=input(\"enter password:\")\n",
    "    print(\"you entered:\",str(pass2))\n",
    "print(\"correct password\")"
   ]
  },
  {
   "cell_type": "code",
   "execution_count": null,
   "id": "2d9a8819",
   "metadata": {},
   "outputs": [],
   "source": [
    "#factorial calculator\n",
    "n=int((input(\"enter number:\")))\n",
    "import math\n",
    "print(\"factorial of\", n, \"=\", math.factorial(n))"
   ]
  },
  {
   "cell_type": "code",
   "execution_count": null,
   "id": "ad439ff1",
   "metadata": {},
   "outputs": [],
   "source": [
    "#count digit in a number\n",
    "n=int((input(\"enter number:\")))\n",
    "list=[]\n",
    "list.append(n)\n",
    "digit=len(str(n))\n",
    "print(\"tne number:\",n)\n",
    "print(\"number of digits :\",digit)"
   ]
  },
  {
   "cell_type": "code",
   "execution_count": null,
   "id": "a5bb2e0a",
   "metadata": {},
   "outputs": [],
   "source": []
  }
 ],
 "metadata": {
  "kernelspec": {
   "display_name": "Python 3",
   "language": "python",
   "name": "python3"
  },
  "language_info": {
   "codemirror_mode": {
    "name": "ipython",
    "version": 3
   },
   "file_extension": ".py",
   "mimetype": "text/x-python",
   "name": "python",
   "nbconvert_exporter": "python",
   "pygments_lexer": "ipython3",
   "version": "3.12.6"
  }
 },
 "nbformat": 4,
 "nbformat_minor": 5
}
